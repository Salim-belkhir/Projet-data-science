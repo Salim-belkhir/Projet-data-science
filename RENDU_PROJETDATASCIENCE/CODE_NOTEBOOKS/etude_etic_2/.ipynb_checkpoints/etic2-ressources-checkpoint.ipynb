{
 "cells": [
  {
   "cell_type": "markdown",
   "metadata": {},
   "source": [
    "# **Clustering Type de ressources**\n",
    "\n",
    "\n",
    ">Nous allons procéder ici aussi à un clustering des établissements sur les colonnes suivantes : \n",
    ">- TpRess_ManuelNum : *`est-ce que le manuel scolaire est disponible sous forme numérique`*\n",
    ">- TpRess_AnimScienLogiSimu : *`Les animations scientifiques et/ou logiciels de simulation sont l'un des types de ressources mises à la disposition des élèves`*\n",
    ">- TpRess_Bdd : *`Les banques de documents multimédias (vidéos, podcasts, textes, cartes, animations, etc.) sont l'un des types de ressources mises à la disposition des élèves.`*\n",
    ">- TpRess_LogiOutils : *`Les logiciels outils (géométrie, indexage, lexicographie, cartographie, etc.) sont l'un des types de ressources mises à la disposition des élèves`*\n",
    ">- TpRess_OuvRef : *`Les ouvrages de référence interactifs (atlas, dictionnaire, encyclopédie...) sont l'un des types de ressources mises à la disposition des élèves`*\n",
    ">- TpRess_ResEntrainement : *`Les ressources pour s'entraîner sont l'un des types de ressources mises à la disposition des élèves`*\n",
    ">- TpRess_Autres : *`D'autres types de ressources sont mis à la disposition des élèves`*\n",
    "\n",
    "\n",
    ">Le but va être de réduire ces 7 colonnes en une seule avec plusieurs modalités, pour faciliter l'analyse globale. Nous allons procèder comme nous avons pu le faire précedemment. Nous allons utiliser l'algorithme de ``KMeans`` pour procéder à une classification non supervisée pour voir si des groupes se dégagent \n",
    "\n",
    "\n",
    "\n",
    "### *Import des bibliothèques*"
   ]
  },
  {
   "cell_type": "code",
   "execution_count": 1,
   "metadata": {},
   "outputs": [],
   "source": [
    "import pandas as pd\n",
    "import plotly.graph_objects as go\n",
    "from sklearn.cluster import KMeans\n",
    "from sklearn.decomposition import PCA\n",
    "import plotly.express as px\n",
    "import prince as pc\n",
    "\n",
    "# import image module\n",
    "from IPython.display import Image\n",
    "import kaleido\n",
    "import io\n",
    "from PIL import Image as ImagePIL"
   ]
  },
  {
   "cell_type": "markdown",
   "metadata": {},
   "source": [
    "### *Import du fichier*"
   ]
  },
  {
   "cell_type": "code",
   "execution_count": 2,
   "metadata": {},
   "outputs": [
    {
     "data": {
      "text/plain": [
       "Index(['Code_UAI', 'Millesime', 'Code_nature', 'nature_uai', 'typ_etab',\n",
       "       'Academie', 'Departement', 'NbEleve', 'NbEnseignant',\n",
       "       'SiEtabCentreRessource', 'SiProjetNumEcole', 'SiEntDisponible',\n",
       "       'SiProjEtabIntegreENT', 'Maint_PersCollect', 'Maint_PrestaExt',\n",
       "       'Maint_PersonnelEducNatHsEtab', 'Maint_PersonnelEtab',\n",
       "       'Maint_AutreNeSaitPas', 'Maint_Personne', 'NbRessourceEdit',\n",
       "       'TpRess_ManuelNum', 'TpRess_AnimScienLogiSimu', 'TpRess_Bdd',\n",
       "       'TpRess_LogiOutils', 'TpRess_OuvRef', 'TpRess_ResEntrainement',\n",
       "       'TpRess_Autres', 'TpRess_aucune', 'ServInt_NoteElev', 'ServInt_AbsElev',\n",
       "       'ServInt_EdtElevCls', 'ServInt_CahierTxt', 'ServInt_DocRessPeda',\n",
       "       'ServInt_AgdActuEtab', 'ServInt_PlatApp', 'ServInt_Autres',\n",
       "       'ServInt_aucun', 'NbTerminaux', 'NbTablette', 'NbTablettePC',\n",
       "       'NbMicroMoins5', 'NbMicroPortable', 'NbPortAffEl', 'NbPortAffEns',\n",
       "       'NbEleveEqASH', 'NbPosteEqASH', 'NbTBI', 'propClassesAvecTBI',\n",
       "       'NbVideoProj', 'NbClassMobile', 'NbLecteurMpx', 'NbImpr3D',\n",
       "       'AccWeb_RTC', 'AccWeb_CableFibreOptique', 'AccWeb_ADSL',\n",
       "       'AccWeb_AutresHautDebit', 'AccWeb_NeSaitPas', 'AccWeb_Aucun',\n",
       "       'DebitWeb', 'SiWifi', 'SalleInternet', 'PostesInfoElvHorsCours',\n",
       "       'SiPareFeuEtab', 'SiOuifiltrageWeb', 'ControlePosteriori',\n",
       "       'SiCharteUsageWeb', 'Diffch_AnnexeeRI',\n",
       "       'Diffch_DossierRentreeEnseignants', 'Diffch_CRConseilAdmin',\n",
       "       'Diffch_DiffusionParents', 'Diffch_Autres', 'AccesParentCharte',\n",
       "       'ElvAuthentif', 'SiVisioConferenc', 'SiEntUtilise',\n",
       "       'TypeMatHandi_Tablette', 'TypeMatHandi_OrdiPort', 'TypeMatHandi_LogApp',\n",
       "       'TypeMatHandi_Autre', 'Code_region', 'Libelle_region'],\n",
       "      dtype='object')"
      ]
     },
     "execution_count": 2,
     "metadata": {},
     "output_type": "execute_result"
    }
   ],
   "source": [
    "df = pd.read_csv('../data/lycee-college/fr-en-etic_2d.csv', sep=';')\n",
    "\n",
    "#on garde les données les plus récentes, donc 2019\n",
    "df = df.loc[df[\"Millesime\"] == 2019]\n",
    "\n",
    "#On consulte les colonnes existantes\n",
    "df.columns"
   ]
  },
  {
   "cell_type": "markdown",
   "metadata": {},
   "source": [
    "### *Traitement du fichier*"
   ]
  },
  {
   "cell_type": "markdown",
   "metadata": {},
   "source": [
    "On va fixer l'index et ensuite supprimer toutes les colonnes qui seront inutiles pour cette analyse. On supprime également les établissement pour lesquels il y a des `NaN` car cela va poser problème lors de la classification."
   ]
  },
  {
   "cell_type": "code",
   "execution_count": 3,
   "metadata": {},
   "outputs": [],
   "source": [
    "df_ressources = df.set_index('Code_UAI')\n",
    "\n",
    "#On supprime les colonnes inutiles\n",
    "df_ressources.drop(columns=['Millesime', 'Code_nature', 'nature_uai', 'typ_etab',\n",
    "       'Academie', 'Departement', 'NbEleve', 'NbEnseignant',\n",
    "       'SiEtabCentreRessource', 'SiProjetNumEcole', 'SiEntDisponible',\n",
    "       'SiProjEtabIntegreENT', 'Maint_PersCollect', 'Maint_PrestaExt',\n",
    "       'Maint_PersonnelEducNatHsEtab', 'Maint_PersonnelEtab',\n",
    "       'Maint_AutreNeSaitPas', 'Maint_Personne', 'NbRessourceEdit',\n",
    "       'ServInt_NoteElev', 'ServInt_AbsElev',\n",
    "       'ServInt_EdtElevCls', 'ServInt_CahierTxt', 'ServInt_DocRessPeda',\n",
    "       'ServInt_AgdActuEtab', 'ServInt_PlatApp', 'ServInt_Autres',\n",
    "       'ServInt_aucun', 'NbTerminaux', 'NbTablette', 'NbTablettePC',\n",
    "       'NbMicroMoins5', 'NbMicroPortable', 'NbPortAffEl', 'NbPortAffEns',\n",
    "       'NbEleveEqASH', 'NbPosteEqASH', 'NbTBI', 'propClassesAvecTBI',\n",
    "       'NbVideoProj', 'NbClassMobile', 'NbLecteurMpx', 'NbImpr3D',\n",
    "       'AccWeb_RTC', 'AccWeb_CableFibreOptique', 'AccWeb_ADSL',\n",
    "       'AccWeb_AutresHautDebit', 'AccWeb_NeSaitPas', 'AccWeb_Aucun',\n",
    "       'DebitWeb', 'SiWifi', 'SalleInternet', 'PostesInfoElvHorsCours',\n",
    "       'SiPareFeuEtab', 'SiOuifiltrageWeb', 'ControlePosteriori',\n",
    "       'SiCharteUsageWeb', 'Diffch_AnnexeeRI',\n",
    "       'Diffch_DossierRentreeEnseignants', 'Diffch_CRConseilAdmin',\n",
    "       'Diffch_DiffusionParents', 'Diffch_Autres', 'AccesParentCharte',\n",
    "       'ElvAuthentif', 'SiVisioConferenc', 'SiEntUtilise',\n",
    "       'TypeMatHandi_Tablette', 'TypeMatHandi_OrdiPort', 'TypeMatHandi_LogApp',\n",
    "       'TypeMatHandi_Autre', 'Code_region', 'Libelle_region'], inplace=True)\n",
    "\n",
    "\n",
    "#On supprime les lignes avec des valeurs manquantes\n",
    "df_ressources.dropna(inplace=True)"
   ]
  },
  {
   "cell_type": "markdown",
   "metadata": {},
   "source": [
    "On vérifie que tout s'est bien supprimé"
   ]
  },
  {
   "cell_type": "code",
   "execution_count": 4,
   "metadata": {},
   "outputs": [
    {
     "data": {
      "text/html": [
       "<div>\n",
       "<style scoped>\n",
       "    .dataframe tbody tr th:only-of-type {\n",
       "        vertical-align: middle;\n",
       "    }\n",
       "\n",
       "    .dataframe tbody tr th {\n",
       "        vertical-align: top;\n",
       "    }\n",
       "\n",
       "    .dataframe thead th {\n",
       "        text-align: right;\n",
       "    }\n",
       "</style>\n",
       "<table border=\"1\" class=\"dataframe\">\n",
       "  <thead>\n",
       "    <tr style=\"text-align: right;\">\n",
       "      <th></th>\n",
       "      <th>TpRess_ManuelNum</th>\n",
       "      <th>TpRess_AnimScienLogiSimu</th>\n",
       "      <th>TpRess_Bdd</th>\n",
       "      <th>TpRess_LogiOutils</th>\n",
       "      <th>TpRess_OuvRef</th>\n",
       "      <th>TpRess_ResEntrainement</th>\n",
       "      <th>TpRess_Autres</th>\n",
       "      <th>TpRess_aucune</th>\n",
       "    </tr>\n",
       "    <tr>\n",
       "      <th>Code_UAI</th>\n",
       "      <th></th>\n",
       "      <th></th>\n",
       "      <th></th>\n",
       "      <th></th>\n",
       "      <th></th>\n",
       "      <th></th>\n",
       "      <th></th>\n",
       "      <th></th>\n",
       "    </tr>\n",
       "  </thead>\n",
       "  <tbody>\n",
       "    <tr>\n",
       "      <th>0810016C</th>\n",
       "      <td>oui</td>\n",
       "      <td>oui</td>\n",
       "      <td>oui</td>\n",
       "      <td>oui</td>\n",
       "      <td>oui</td>\n",
       "      <td>non</td>\n",
       "      <td>oui</td>\n",
       "      <td>non</td>\n",
       "    </tr>\n",
       "    <tr>\n",
       "      <th>0810026N</th>\n",
       "      <td>non</td>\n",
       "      <td>oui</td>\n",
       "      <td>oui</td>\n",
       "      <td>oui</td>\n",
       "      <td>oui</td>\n",
       "      <td>non</td>\n",
       "      <td>oui</td>\n",
       "      <td>non</td>\n",
       "    </tr>\n",
       "    <tr>\n",
       "      <th>0810041E</th>\n",
       "      <td>oui</td>\n",
       "      <td>non</td>\n",
       "      <td>oui</td>\n",
       "      <td>oui</td>\n",
       "      <td>oui</td>\n",
       "      <td>oui</td>\n",
       "      <td>oui</td>\n",
       "      <td>non</td>\n",
       "    </tr>\n",
       "    <tr>\n",
       "      <th>0810124V</th>\n",
       "      <td>oui</td>\n",
       "      <td>oui</td>\n",
       "      <td>oui</td>\n",
       "      <td>oui</td>\n",
       "      <td>oui</td>\n",
       "      <td>non</td>\n",
       "      <td>oui</td>\n",
       "      <td>non</td>\n",
       "    </tr>\n",
       "    <tr>\n",
       "      <th>0810125W</th>\n",
       "      <td>oui</td>\n",
       "      <td>non</td>\n",
       "      <td>non</td>\n",
       "      <td>oui</td>\n",
       "      <td>non</td>\n",
       "      <td>oui</td>\n",
       "      <td>non</td>\n",
       "      <td>non</td>\n",
       "    </tr>\n",
       "  </tbody>\n",
       "</table>\n",
       "</div>"
      ],
      "text/plain": [
       "         TpRess_ManuelNum TpRess_AnimScienLogiSimu TpRess_Bdd  \\\n",
       "Code_UAI                                                        \n",
       "0810016C              oui                      oui        oui   \n",
       "0810026N              non                      oui        oui   \n",
       "0810041E              oui                      non        oui   \n",
       "0810124V              oui                      oui        oui   \n",
       "0810125W              oui                      non        non   \n",
       "\n",
       "         TpRess_LogiOutils TpRess_OuvRef TpRess_ResEntrainement TpRess_Autres  \\\n",
       "Code_UAI                                                                        \n",
       "0810016C               oui           oui                    non           oui   \n",
       "0810026N               oui           oui                    non           oui   \n",
       "0810041E               oui           oui                    oui           oui   \n",
       "0810124V               oui           oui                    non           oui   \n",
       "0810125W               oui           non                    oui           non   \n",
       "\n",
       "         TpRess_aucune  \n",
       "Code_UAI                \n",
       "0810016C           non  \n",
       "0810026N           non  \n",
       "0810041E           non  \n",
       "0810124V           non  \n",
       "0810125W           non  "
      ]
     },
     "execution_count": 4,
     "metadata": {},
     "output_type": "execute_result"
    }
   ],
   "source": [
    "df_ressources.head()"
   ]
  },
  {
   "cell_type": "markdown",
   "metadata": {},
   "source": [
    "On va procéder ensuite au renommage des colonnes"
   ]
  },
  {
   "cell_type": "code",
   "execution_count": 5,
   "metadata": {},
   "outputs": [
    {
     "data": {
      "text/plain": [
       "Index(['manuelnum', 'animscienlogisimu', 'bdd', 'logioutils', 'ouvref',\n",
       "       'resentrainement', 'autres', 'aucune'],\n",
       "      dtype='object')"
      ]
     },
     "execution_count": 5,
     "metadata": {},
     "output_type": "execute_result"
    }
   ],
   "source": [
    "old_columns = df_ressources.columns\n",
    "\n",
    "for column in old_columns:\n",
    "    df_ressources.rename(columns={column: column.replace('TpRess_', '').lower()}, inplace=True)\n",
    "\n",
    "df_ressources.columns"
   ]
  },
  {
   "cell_type": "markdown",
   "metadata": {},
   "source": [
    "On va procèder maintenant à la transformation des modalités en valeurs numériques (1 pour \"oui\" et 0 pour \"non\"). Cette transformation est nécessaire pour pouvoir faire du clustering et faire une ACP à la fin pour avoir une représentation."
   ]
  },
  {
   "cell_type": "code",
   "execution_count": 6,
   "metadata": {},
   "outputs": [
    {
     "data": {
      "text/html": [
       "<div>\n",
       "<style scoped>\n",
       "    .dataframe tbody tr th:only-of-type {\n",
       "        vertical-align: middle;\n",
       "    }\n",
       "\n",
       "    .dataframe tbody tr th {\n",
       "        vertical-align: top;\n",
       "    }\n",
       "\n",
       "    .dataframe thead th {\n",
       "        text-align: right;\n",
       "    }\n",
       "</style>\n",
       "<table border=\"1\" class=\"dataframe\">\n",
       "  <thead>\n",
       "    <tr style=\"text-align: right;\">\n",
       "      <th></th>\n",
       "      <th>manuelnum</th>\n",
       "      <th>animscienlogisimu</th>\n",
       "      <th>bdd</th>\n",
       "      <th>logioutils</th>\n",
       "      <th>ouvref</th>\n",
       "      <th>resentrainement</th>\n",
       "      <th>autres</th>\n",
       "      <th>aucune</th>\n",
       "    </tr>\n",
       "    <tr>\n",
       "      <th>Code_UAI</th>\n",
       "      <th></th>\n",
       "      <th></th>\n",
       "      <th></th>\n",
       "      <th></th>\n",
       "      <th></th>\n",
       "      <th></th>\n",
       "      <th></th>\n",
       "      <th></th>\n",
       "    </tr>\n",
       "  </thead>\n",
       "  <tbody>\n",
       "    <tr>\n",
       "      <th>0810016C</th>\n",
       "      <td>1.0</td>\n",
       "      <td>1.0</td>\n",
       "      <td>1.0</td>\n",
       "      <td>1.0</td>\n",
       "      <td>1.0</td>\n",
       "      <td>0.0</td>\n",
       "      <td>1.0</td>\n",
       "      <td>0.0</td>\n",
       "    </tr>\n",
       "    <tr>\n",
       "      <th>0810026N</th>\n",
       "      <td>0.0</td>\n",
       "      <td>1.0</td>\n",
       "      <td>1.0</td>\n",
       "      <td>1.0</td>\n",
       "      <td>1.0</td>\n",
       "      <td>0.0</td>\n",
       "      <td>1.0</td>\n",
       "      <td>0.0</td>\n",
       "    </tr>\n",
       "    <tr>\n",
       "      <th>0810041E</th>\n",
       "      <td>1.0</td>\n",
       "      <td>0.0</td>\n",
       "      <td>1.0</td>\n",
       "      <td>1.0</td>\n",
       "      <td>1.0</td>\n",
       "      <td>1.0</td>\n",
       "      <td>1.0</td>\n",
       "      <td>0.0</td>\n",
       "    </tr>\n",
       "    <tr>\n",
       "      <th>0810124V</th>\n",
       "      <td>1.0</td>\n",
       "      <td>1.0</td>\n",
       "      <td>1.0</td>\n",
       "      <td>1.0</td>\n",
       "      <td>1.0</td>\n",
       "      <td>0.0</td>\n",
       "      <td>1.0</td>\n",
       "      <td>0.0</td>\n",
       "    </tr>\n",
       "    <tr>\n",
       "      <th>0810125W</th>\n",
       "      <td>1.0</td>\n",
       "      <td>0.0</td>\n",
       "      <td>0.0</td>\n",
       "      <td>1.0</td>\n",
       "      <td>0.0</td>\n",
       "      <td>1.0</td>\n",
       "      <td>0.0</td>\n",
       "      <td>0.0</td>\n",
       "    </tr>\n",
       "  </tbody>\n",
       "</table>\n",
       "</div>"
      ],
      "text/plain": [
       "          manuelnum  animscienlogisimu  bdd  logioutils  ouvref  \\\n",
       "Code_UAI                                                          \n",
       "0810016C        1.0                1.0  1.0         1.0     1.0   \n",
       "0810026N        0.0                1.0  1.0         1.0     1.0   \n",
       "0810041E        1.0                0.0  1.0         1.0     1.0   \n",
       "0810124V        1.0                1.0  1.0         1.0     1.0   \n",
       "0810125W        1.0                0.0  0.0         1.0     0.0   \n",
       "\n",
       "          resentrainement  autres  aucune  \n",
       "Code_UAI                                   \n",
       "0810016C              0.0     1.0     0.0  \n",
       "0810026N              0.0     1.0     0.0  \n",
       "0810041E              1.0     1.0     0.0  \n",
       "0810124V              0.0     1.0     0.0  \n",
       "0810125W              1.0     0.0     0.0  "
      ]
     },
     "execution_count": 6,
     "metadata": {},
     "output_type": "execute_result"
    }
   ],
   "source": [
    "for column in df_ressources.columns:\n",
    "    df_ressources[column] = df_ressources[column].replace({'oui': 1, 'non': 0})\n",
    "    df_ressources[column] = df_ressources[column].astype('float64')\n",
    "\n",
    "df_ressources.head()"
   ]
  },
  {
   "cell_type": "markdown",
   "metadata": {},
   "source": [
    "### Corrélation\n",
    "\n",
    "Avant de faire de la classification, nous allons voir si il existe une corrélation entre les différentes variables qu'on a là"
   ]
  },
  {
   "cell_type": "code",
   "execution_count": 7,
   "metadata": {},
   "outputs": [
    {
     "data": {
      "image/png": "[encoded data removed]",
      "text/plain": [
       "<IPython.core.display.Image object>"
      ]
     },
     "execution_count": 7,
     "metadata": {},
     "output_type": "execute_result"
    }
   ],
   "source": [
    "columns_names = df_ressources.columns\n",
    "\n",
    "heat = go.Heatmap(\n",
    "    z = df_ressources.corr(),\n",
    "    x = columns_names,\n",
    "    y = columns_names,\n",
    "    xgap = 1, ygap = 1,\n",
    "    colorbar_thickness=20,\n",
    "    colorbar_ticklen=3,\n",
    "    hovertext = df_ressources.corr(),\n",
    "    hoverinfo='text'\n",
    ")\n",
    "\n",
    "layout = go.Layout(\n",
    "    title_text= \"Correlation Matrix\",\n",
    "    title_x = 0.5,\n",
    "    width=600, height=600,\n",
    "    xaxis_showgrid=False,\n",
    "    yaxis_showgrid=False,\n",
    "    yaxis_autorange='reversed'\n",
    ")\n",
    "\n",
    "fig = go.Figure(data=[heat], layout=layout)\n",
    "Image(fig.to_image(format=\"png\", engine=\"kaleido\", width=600, height=600))\n",
    "#fig.show()"
   ]
  },
  {
   "cell_type": "markdown",
   "metadata": {},
   "source": [
    "On voit qu'il n'y a pas tellement de corrélation entre les variables qu'on a prises ici."
   ]
  },
  {
   "cell_type": "markdown",
   "metadata": {},
   "source": [
    "### Clustering\n",
    "\n",
    "On peut maintenant passer au Clustering avec l'algorithme de ``KMeans``."
   ]
  },
  {
   "cell_type": "code",
   "execution_count": 8,
   "metadata": {},
   "outputs": [
    {
     "data": {
      "text/html": [
       "<div>\n",
       "<style scoped>\n",
       "    .dataframe tbody tr th:only-of-type {\n",
       "        vertical-align: middle;\n",
       "    }\n",
       "\n",
       "    .dataframe tbody tr th {\n",
       "        vertical-align: top;\n",
       "    }\n",
       "\n",
       "    .dataframe thead th {\n",
       "        text-align: right;\n",
       "    }\n",
       "</style>\n",
       "<table border=\"1\" class=\"dataframe\">\n",
       "  <thead>\n",
       "    <tr style=\"text-align: right;\">\n",
       "      <th></th>\n",
       "      <th>manuelnum</th>\n",
       "      <th>animscienlogisimu</th>\n",
       "      <th>bdd</th>\n",
       "      <th>logioutils</th>\n",
       "      <th>ouvref</th>\n",
       "      <th>resentrainement</th>\n",
       "      <th>autres</th>\n",
       "      <th>aucune</th>\n",
       "    </tr>\n",
       "  </thead>\n",
       "  <tbody>\n",
       "    <tr>\n",
       "      <th>0</th>\n",
       "      <td>0.690909</td>\n",
       "      <td>0.927273</td>\n",
       "      <td>0.900000</td>\n",
       "      <td>0.954545</td>\n",
       "      <td>0.800000</td>\n",
       "      <td>1.110223e-16</td>\n",
       "      <td>1.000000e+00</td>\n",
       "      <td>-1.734723e-18</td>\n",
       "    </tr>\n",
       "    <tr>\n",
       "      <th>1</th>\n",
       "      <td>0.829114</td>\n",
       "      <td>0.892405</td>\n",
       "      <td>0.867089</td>\n",
       "      <td>0.993671</td>\n",
       "      <td>0.829114</td>\n",
       "      <td>4.556962e-01</td>\n",
       "      <td>6.661338e-16</td>\n",
       "      <td>0.000000e+00</td>\n",
       "    </tr>\n",
       "    <tr>\n",
       "      <th>2</th>\n",
       "      <td>0.773585</td>\n",
       "      <td>0.943396</td>\n",
       "      <td>0.896226</td>\n",
       "      <td>0.981132</td>\n",
       "      <td>0.849057</td>\n",
       "      <td>1.000000e+00</td>\n",
       "      <td>1.000000e+00</td>\n",
       "      <td>-1.734723e-18</td>\n",
       "    </tr>\n",
       "    <tr>\n",
       "      <th>3</th>\n",
       "      <td>0.365079</td>\n",
       "      <td>0.047619</td>\n",
       "      <td>0.476190</td>\n",
       "      <td>0.571429</td>\n",
       "      <td>0.269841</td>\n",
       "      <td>2.857143e-01</td>\n",
       "      <td>2.698413e-01</td>\n",
       "      <td>1.587302e-02</td>\n",
       "    </tr>\n",
       "  </tbody>\n",
       "</table>\n",
       "</div>"
      ],
      "text/plain": [
       "   manuelnum  animscienlogisimu       bdd  logioutils    ouvref  \\\n",
       "0   0.690909           0.927273  0.900000    0.954545  0.800000   \n",
       "1   0.829114           0.892405  0.867089    0.993671  0.829114   \n",
       "2   0.773585           0.943396  0.896226    0.981132  0.849057   \n",
       "3   0.365079           0.047619  0.476190    0.571429  0.269841   \n",
       "\n",
       "   resentrainement        autres        aucune  \n",
       "0     1.110223e-16  1.000000e+00 -1.734723e-18  \n",
       "1     4.556962e-01  6.661338e-16  0.000000e+00  \n",
       "2     1.000000e+00  1.000000e+00 -1.734723e-18  \n",
       "3     2.857143e-01  2.698413e-01  1.587302e-02  "
      ]
     },
     "execution_count": 8,
     "metadata": {},
     "output_type": "execute_result"
    }
   ],
   "source": [
    "km_ressources = KMeans(\n",
    "    n_clusters=4, \n",
    "    random_state=42,\n",
    "    init='k-means++',\n",
    "    max_iter=3600,\n",
    "    n_init=20\n",
    ")\n",
    "\n",
    "y_km_ressources = km_ressources.fit_predict(df_ressources)\n",
    "\n",
    "resultat = pd.DataFrame(km_ressources.cluster_centers_, columns=km_ressources.feature_names_in_)\n",
    "\n",
    "resultat"
   ]
  },
  {
   "cell_type": "markdown",
   "metadata": {},
   "source": [
    "On va convertir ces valeurs numériques en \"oui\" et \"non\" pour pouvoir comprendre le comportement moyen qui se dégage d'un cluster. Cela sera plus facile à comprendre et interprèter"
   ]
  },
  {
   "cell_type": "code",
   "execution_count": 9,
   "metadata": {},
   "outputs": [
    {
     "data": {
      "text/html": [
       "<div>\n",
       "<style scoped>\n",
       "    .dataframe tbody tr th:only-of-type {\n",
       "        vertical-align: middle;\n",
       "    }\n",
       "\n",
       "    .dataframe tbody tr th {\n",
       "        vertical-align: top;\n",
       "    }\n",
       "\n",
       "    .dataframe thead th {\n",
       "        text-align: right;\n",
       "    }\n",
       "</style>\n",
       "<table border=\"1\" class=\"dataframe\">\n",
       "  <thead>\n",
       "    <tr style=\"text-align: right;\">\n",
       "      <th></th>\n",
       "      <th>manuelnum</th>\n",
       "      <th>animscienlogisimu</th>\n",
       "      <th>bdd</th>\n",
       "      <th>logioutils</th>\n",
       "      <th>ouvref</th>\n",
       "      <th>resentrainement</th>\n",
       "      <th>autres</th>\n",
       "      <th>aucune</th>\n",
       "    </tr>\n",
       "  </thead>\n",
       "  <tbody>\n",
       "    <tr>\n",
       "      <th>0</th>\n",
       "      <td>oui</td>\n",
       "      <td>oui</td>\n",
       "      <td>oui</td>\n",
       "      <td>oui</td>\n",
       "      <td>oui</td>\n",
       "      <td>non</td>\n",
       "      <td>oui</td>\n",
       "      <td>non</td>\n",
       "    </tr>\n",
       "    <tr>\n",
       "      <th>1</th>\n",
       "      <td>oui</td>\n",
       "      <td>oui</td>\n",
       "      <td>oui</td>\n",
       "      <td>oui</td>\n",
       "      <td>oui</td>\n",
       "      <td>non</td>\n",
       "      <td>non</td>\n",
       "      <td>non</td>\n",
       "    </tr>\n",
       "    <tr>\n",
       "      <th>2</th>\n",
       "      <td>oui</td>\n",
       "      <td>oui</td>\n",
       "      <td>oui</td>\n",
       "      <td>oui</td>\n",
       "      <td>oui</td>\n",
       "      <td>oui</td>\n",
       "      <td>oui</td>\n",
       "      <td>non</td>\n",
       "    </tr>\n",
       "    <tr>\n",
       "      <th>3</th>\n",
       "      <td>non</td>\n",
       "      <td>non</td>\n",
       "      <td>non</td>\n",
       "      <td>oui</td>\n",
       "      <td>non</td>\n",
       "      <td>non</td>\n",
       "      <td>non</td>\n",
       "      <td>non</td>\n",
       "    </tr>\n",
       "  </tbody>\n",
       "</table>\n",
       "</div>"
      ],
      "text/plain": [
       "  manuelnum animscienlogisimu  bdd logioutils ouvref resentrainement autres  \\\n",
       "0       oui               oui  oui        oui    oui             non    oui   \n",
       "1       oui               oui  oui        oui    oui             non    non   \n",
       "2       oui               oui  oui        oui    oui             oui    oui   \n",
       "3       non               non  non        oui    non             non    non   \n",
       "\n",
       "  aucune  \n",
       "0    non  \n",
       "1    non  \n",
       "2    non  \n",
       "3    non  "
      ]
     },
     "execution_count": 9,
     "metadata": {},
     "output_type": "execute_result"
    }
   ],
   "source": [
    "def change_value(row):\n",
    "    if(row > 0.5):\n",
    "        return 1\n",
    "    else:\n",
    "        return 0\n",
    "\n",
    "\n",
    "for column in resultat.columns:\n",
    "    resultat[column] = resultat[column].apply(change_value)\n",
    "    resultat[column] = resultat[column].replace({1: 'oui', 0: 'non'})\n",
    "    resultat[column] = resultat[column].astype(str)\n",
    "\n",
    "\n",
    "resultat"
   ]
  },
  {
   "cell_type": "markdown",
   "metadata": {},
   "source": [
    "Après plusieurs essais, avec plusieurs valeurs pour le nombre de clusters à trouver, nous avons pu voir que les meilleurs paramètres mis au dessus dans la fonction du KMeans est celui mis actuellement. Il permet de discrétiser en 4 modalités ces 8 colonnes. Si on augmente le nombre de clusters, on a des classes qui se ressemblent, et si on le diminue les classes ne sont pas précises. \n",
    "Nous avons donc ici 4 modalités pour la nouvelle classe \"ressources mises en place\" :\n",
    "- \"*`Très bien`*\" : la classe 1\n",
    "- \"*`Bien`*\" : la classe 3\n",
    "- \"*`Assez bien`*\" : la classe 0\n",
    "- \"*`Mauvais`*\" : la classe 2\n",
    "\n",
    "\n",
    "On va ensuite procéder à une ACP pour voir si on a une bonne découpe des clusters et avoir une représentation physique qui va plus nous parler.\n",
    "\n",
    "On ajoute à chaque individu sa classe."
   ]
  },
  {
   "cell_type": "code",
   "execution_count": 10,
   "metadata": {},
   "outputs": [
    {
     "data": {
      "text/html": [
       "<div>\n",
       "<style scoped>\n",
       "    .dataframe tbody tr th:only-of-type {\n",
       "        vertical-align: middle;\n",
       "    }\n",
       "\n",
       "    .dataframe tbody tr th {\n",
       "        vertical-align: top;\n",
       "    }\n",
       "\n",
       "    .dataframe thead th {\n",
       "        text-align: right;\n",
       "    }\n",
       "</style>\n",
       "<table border=\"1\" class=\"dataframe\">\n",
       "  <thead>\n",
       "    <tr style=\"text-align: right;\">\n",
       "      <th></th>\n",
       "      <th>manuelnum</th>\n",
       "      <th>animscienlogisimu</th>\n",
       "      <th>bdd</th>\n",
       "      <th>logioutils</th>\n",
       "      <th>ouvref</th>\n",
       "      <th>resentrainement</th>\n",
       "      <th>autres</th>\n",
       "      <th>aucune</th>\n",
       "      <th>cluster</th>\n",
       "    </tr>\n",
       "    <tr>\n",
       "      <th>Code_UAI</th>\n",
       "      <th></th>\n",
       "      <th></th>\n",
       "      <th></th>\n",
       "      <th></th>\n",
       "      <th></th>\n",
       "      <th></th>\n",
       "      <th></th>\n",
       "      <th></th>\n",
       "      <th></th>\n",
       "    </tr>\n",
       "  </thead>\n",
       "  <tbody>\n",
       "    <tr>\n",
       "      <th>0810016C</th>\n",
       "      <td>1.0</td>\n",
       "      <td>1.0</td>\n",
       "      <td>1.0</td>\n",
       "      <td>1.0</td>\n",
       "      <td>1.0</td>\n",
       "      <td>0.0</td>\n",
       "      <td>1.0</td>\n",
       "      <td>0.0</td>\n",
       "      <td>0</td>\n",
       "    </tr>\n",
       "    <tr>\n",
       "      <th>0810026N</th>\n",
       "      <td>0.0</td>\n",
       "      <td>1.0</td>\n",
       "      <td>1.0</td>\n",
       "      <td>1.0</td>\n",
       "      <td>1.0</td>\n",
       "      <td>0.0</td>\n",
       "      <td>1.0</td>\n",
       "      <td>0.0</td>\n",
       "      <td>0</td>\n",
       "    </tr>\n",
       "    <tr>\n",
       "      <th>0810041E</th>\n",
       "      <td>1.0</td>\n",
       "      <td>0.0</td>\n",
       "      <td>1.0</td>\n",
       "      <td>1.0</td>\n",
       "      <td>1.0</td>\n",
       "      <td>1.0</td>\n",
       "      <td>1.0</td>\n",
       "      <td>0.0</td>\n",
       "      <td>2</td>\n",
       "    </tr>\n",
       "    <tr>\n",
       "      <th>0810124V</th>\n",
       "      <td>1.0</td>\n",
       "      <td>1.0</td>\n",
       "      <td>1.0</td>\n",
       "      <td>1.0</td>\n",
       "      <td>1.0</td>\n",
       "      <td>0.0</td>\n",
       "      <td>1.0</td>\n",
       "      <td>0.0</td>\n",
       "      <td>0</td>\n",
       "    </tr>\n",
       "    <tr>\n",
       "      <th>0810125W</th>\n",
       "      <td>1.0</td>\n",
       "      <td>0.0</td>\n",
       "      <td>0.0</td>\n",
       "      <td>1.0</td>\n",
       "      <td>0.0</td>\n",
       "      <td>1.0</td>\n",
       "      <td>0.0</td>\n",
       "      <td>0.0</td>\n",
       "      <td>3</td>\n",
       "    </tr>\n",
       "  </tbody>\n",
       "</table>\n",
       "</div>"
      ],
      "text/plain": [
       "          manuelnum  animscienlogisimu  bdd  logioutils  ouvref  \\\n",
       "Code_UAI                                                          \n",
       "0810016C        1.0                1.0  1.0         1.0     1.0   \n",
       "0810026N        0.0                1.0  1.0         1.0     1.0   \n",
       "0810041E        1.0                0.0  1.0         1.0     1.0   \n",
       "0810124V        1.0                1.0  1.0         1.0     1.0   \n",
       "0810125W        1.0                0.0  0.0         1.0     0.0   \n",
       "\n",
       "          resentrainement  autres  aucune cluster  \n",
       "Code_UAI                                           \n",
       "0810016C              0.0     1.0     0.0       0  \n",
       "0810026N              0.0     1.0     0.0       0  \n",
       "0810041E              1.0     1.0     0.0       2  \n",
       "0810124V              0.0     1.0     0.0       0  \n",
       "0810125W              1.0     0.0     0.0       3  "
      ]
     },
     "execution_count": 10,
     "metadata": {},
     "output_type": "execute_result"
    }
   ],
   "source": [
    "df_ressources['cluster'] = y_km_ressources\n",
    "df_ressources['cluster'] = df_ressources['cluster'].astype(str)\n",
    "df_ressources.head()"
   ]
  },
  {
   "cell_type": "markdown",
   "metadata": {},
   "source": [
    "Après avoir bien mis en forme nos données, on peut passer à une ACP. Nous allons d'abord faire une ACP à l'aide de la classe ``PCA`` fournie par ```sklearn```"
   ]
  },
  {
   "cell_type": "code",
   "execution_count": 11,
   "metadata": {},
   "outputs": [
    {
     "name": "stdout",
     "output_type": "stream",
     "text": [
      "La variance expliquée par le premier axe est de :  26.511371190331083 %  et celle par le second axe est de :  19.693530326518708 % \n",
      "La variance totale est de :  46.204901516849795 %\n"
     ]
    }
   ],
   "source": [
    "pca_ressources = PCA(n_components=2)\n",
    "\n",
    "components = pca_ressources.fit_transform(df_ressources.drop(columns=['cluster']))\n",
    "\n",
    "fig = px.scatter(components, x=0, y=1, color=df_ressources[\"cluster\"], title=\"Coordonnées des individus\", labels={\"0\": \"PC1\", \"1\": \"PC2\"})\n",
    "Image(fig.to_image(format=\"png\", engine=\"kaleido\", width=1000, height=600))\n",
    "#fig.show()\n",
    "\n",
    "print(\"La variance expliquée par le premier axe est de : \", pca_ressources.explained_variance_ratio_[0]*100, \"%\",\" et celle par le second axe est de : \", pca_ressources.explained_variance_ratio_[1]*100, \"% \")\n",
    "print(\"La variance totale est de : \", pca_ressources.explained_variance_ratio_.sum()*100, \"%\")"
   ]
  },
  {
   "cell_type": "markdown",
   "metadata": {},
   "source": [
    "On voit que les clusters ici sont mélangés. Ceci peut être expliqué par la variance totale expliquée par ces deux dimensions. On a seulement 46.6 % de l'information. Il faut donc manipuler avec des pincettes ce graphique pour juger le découpage en clusters."
   ]
  },
  {
   "cell_type": "code",
   "execution_count": 12,
   "metadata": {},
   "outputs": [],
   "source": [
    "pca_ressources = pc.PCA(\n",
    "    n_components=2,\n",
    "    random_state=0,\n",
    "    n_iter=100,\n",
    "    rescale_with_mean=True,\n",
    "    rescale_with_std=True,\n",
    "    copy=True,\n",
    "    engine='auto',\n",
    "    check_input=True\n",
    ")\n",
    "\n",
    "pca_ressources = pca_ressources.fit(df_ressources.drop(columns=['cluster']))"
   ]
  },
  {
   "cell_type": "code",
   "execution_count": 13,
   "metadata": {},
   "outputs": [
    {
     "data": {
      "image/png": "[encoded data removed]",
      "text/plain": [
       "<Figure size 720x720 with 1 Axes>"
      ]
     },
     "metadata": {
      "needs_background": "light"
     },
     "output_type": "display_data"
    }
   ],
   "source": [
    "ax_ressources = pca_ressources.plot_row_coordinates(\n",
    "    df_ressources.drop(columns=['cluster']),\n",
    "    ax=None,\n",
    "    figsize=(10, 10),\n",
    "    x_component=0,\n",
    "    y_component=1,\n",
    "    labels=None,\n",
    "    color_labels=df_ressources['cluster']\n",
    ")"
   ]
  },
  {
   "cell_type": "markdown",
   "metadata": {},
   "source": [
    "-------------------------------"
   ]
  },
  {
   "cell_type": "code",
   "execution_count": 14,
   "metadata": {},
   "outputs": [
    {
     "data": {
      "image/png": "[encoded data removed]",
      "text/plain": [
       "<IPython.core.display.Image object>"
      ]
     },
     "execution_count": 14,
     "metadata": {},
     "output_type": "execute_result"
    }
   ],
   "source": [
    "pca = PCA(n_components=3)\n",
    "\n",
    "components = pca.fit_transform(df_ressources.drop(columns=['cluster']))\n",
    "\n",
    "total_var = pca.explained_variance_ratio_.sum() * 100\n",
    "\n",
    "labels = {\n",
    "    str(i): f\"PC {i+1} ({var:.1f}%)\"\n",
    "    for i, var in enumerate(pca.explained_variance_ratio_ * 100)\n",
    "}\n",
    "\n",
    "fig = px.scatter_3d(components, x=0, y=1, z=2, color=df_ressources[\"cluster\"], title=f'Total Explained Variance: {total_var:.2f}%', labels=labels)\n",
    "Image(fig.to_image(format=\"png\", engine=\"kaleido\", width=1000, height=600))\n",
    "\n",
    "#fig.show()"
   ]
  },
  {
   "cell_type": "markdown",
   "metadata": {},
   "source": [
    "En passant à une visualisation 3D qui est souvent dure à interpréter, nous passons à une variance totale expliquée de 64.52%. On voit que la séparation des clusters est meilleure qu'en 2 dimensions. On a recouru à un graphique en 3 dimensions pour nous assurer que les clusters ont bien été faits et avoir une représentation graphique "
   ]
  },
  {
   "cell_type": "markdown",
   "metadata": {},
   "source": [
    "### Création de la colonne `Accés aux ressources`\n",
    "\n",
    "Nous allons maintenant procéder à la création de cette colonne pour ensuite l'enregistrer dans un csv qui pourra être utilisé dans l'analyse générale"
   ]
  },
  {
   "cell_type": "code",
   "execution_count": 15,
   "metadata": {},
   "outputs": [
    {
     "data": {
      "text/html": [
       "<div>\n",
       "<style scoped>\n",
       "    .dataframe tbody tr th:only-of-type {\n",
       "        vertical-align: middle;\n",
       "    }\n",
       "\n",
       "    .dataframe tbody tr th {\n",
       "        vertical-align: top;\n",
       "    }\n",
       "\n",
       "    .dataframe thead th {\n",
       "        text-align: right;\n",
       "    }\n",
       "</style>\n",
       "<table border=\"1\" class=\"dataframe\">\n",
       "  <thead>\n",
       "    <tr style=\"text-align: right;\">\n",
       "      <th></th>\n",
       "      <th>acces_ressources</th>\n",
       "    </tr>\n",
       "    <tr>\n",
       "      <th>Code_UAI</th>\n",
       "      <th></th>\n",
       "    </tr>\n",
       "  </thead>\n",
       "  <tbody>\n",
       "    <tr>\n",
       "      <th>0810016C</th>\n",
       "      <td>Assez bien</td>\n",
       "    </tr>\n",
       "    <tr>\n",
       "      <th>0810026N</th>\n",
       "      <td>Assez bien</td>\n",
       "    </tr>\n",
       "    <tr>\n",
       "      <th>0810041E</th>\n",
       "      <td>Mauvais</td>\n",
       "    </tr>\n",
       "    <tr>\n",
       "      <th>0810124V</th>\n",
       "      <td>Assez bien</td>\n",
       "    </tr>\n",
       "    <tr>\n",
       "      <th>0810125W</th>\n",
       "      <td>Bien</td>\n",
       "    </tr>\n",
       "  </tbody>\n",
       "</table>\n",
       "</div>"
      ],
      "text/plain": [
       "         acces_ressources\n",
       "Code_UAI                 \n",
       "0810016C       Assez bien\n",
       "0810026N       Assez bien\n",
       "0810041E          Mauvais\n",
       "0810124V       Assez bien\n",
       "0810125W             Bien"
      ]
     },
     "execution_count": 15,
     "metadata": {},
     "output_type": "execute_result"
    }
   ],
   "source": [
    "df_ressources_final = pd.DataFrame(df_ressources.cluster.astype(str).replace({\"0\":\"Assez bien\", \"1\": \"Très bien\", \"3\": \"Bien\", \"2\": \"Mauvais\"}))\n",
    "df_ressources_final.rename(columns={\"cluster\": \"acces_ressources\"}, inplace=True)\n",
    "\n",
    "df_ressources_final.head()"
   ]
  },
  {
   "cell_type": "markdown",
   "metadata": {},
   "source": [
    "On va stocker cela dans un fichier csv"
   ]
  },
  {
   "cell_type": "code",
   "execution_count": 16,
   "metadata": {},
   "outputs": [],
   "source": [
    "df_ressources_final.to_csv(\"../data/analyses/acces_ressources.csv\", index=True, sep=';')"
   ]
  }
 ],
 "metadata": {
  "kernelspec": {
   "display_name": "Python 3 (ipykernel)",
   "language": "python",
   "name": "python3"
  },
  "language_info": {
   "codemirror_mode": {
    "name": "ipython",
    "version": 3
   },
   "file_extension": ".py",
   "mimetype": "text/x-python",
   "name": "python",
   "nbconvert_exporter": "python",
   "pygments_lexer": "ipython3",
   "version": "3.9.12"
  },
  "vscode": {
   "interpreter": {
    "hash": "2349f8cba88a5b2d1d390f83a8a5748abc4e6656a2f4a0a7bc22dd7876009b29"
   }
  }
 },
 "nbformat": 4,
 "nbformat_minor": 2
}
