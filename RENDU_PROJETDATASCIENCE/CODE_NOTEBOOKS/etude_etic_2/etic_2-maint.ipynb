{
 "cells": [
  {
   "cell_type": "markdown",
   "metadata": {},
   "source": [
    "# **Etude des différents types de maintenance**\n",
    "\n",
    "Le but ici est d'étudier toutes les colonnes traitant de la maintenance pour pouvoir réduire cela en une seule colonne qui va nous servir pour la formule finale du score ETIC. Au début, nous pensions qu'une ACM pouvait nous permettre de catégoriser et savoir quelles colonnes avaient le plus de poids pour accorder un score pour la maintenance. Quand nous avons essayé de faire cela, nous n'avons pu aboutir à aucun résultat car même en ayant le résultat de l'ACM nous n'avons pas pu avancer et cela ne nous a pas aidé. Ensuite, nous avons eu l'idée de faire de la classification non supervisée pour pouvoir accorder à chaque établissement une valeur sans connaître à l'avance les caractéristiques d'une classe.\n",
    "\n",
    "Ici, nous allons étudier toutes les colonnes qui ont un lien avec la maintenance du matériel informatique, donc les colonnes suivantes : \n",
    "- *``'Maint_PersCollect'``* : la maintenance est faire par du personnel de la collectivité\n",
    "- *``'Maint_PrestaExt'``* : la maintenance est faite par des prestataires extérieures\n",
    "- *``'Maint_PersonnelEducNatHsEtab'``* : la maintenance est faite par du personnel de l'éducation nationale hors établissement\n",
    "- *``'Maint_PersonnelEtab'``* : la maintenance est faite par le personnel de l'établissement\n",
    "- *``'Maint_AutreNeSaitPas'``* : soit la maintenance est faite par quelqu'un d'autre ou l'établissement ne sait pas\n",
    "- *``'Maint_Personne'``* : personne ne fait la maintenance\n",
    "\n",
    "\n",
    "\n",
    "### *Import des bibliothèques*"
   ]
  },
  {
   "cell_type": "code",
   "execution_count": 1,
   "metadata": {},
   "outputs": [],
   "source": [
    "import pandas as pd\n",
    "from sklearn.cluster import KMeans\n",
    "from sklearn.decomposition import PCA\n",
    "from sklearn.preprocessing import StandardScaler\n",
    "import plotly_express as px\n",
    "import plotly.graph_objects as go\n",
    "\n",
    "# import image module\n",
    "from IPython.display import Image\n",
    "import kaleido\n",
    "import io\n",
    "from PIL import Image as ImagePIL"
   ]
  },
  {
   "cell_type": "markdown",
   "metadata": {},
   "source": [
    "### *Import du fichier*"
   ]
  },
  {
   "cell_type": "code",
   "execution_count": 2,
   "metadata": {},
   "outputs": [
    {
     "data": {
      "text/plain": [
       "Index(['Millesime', 'Code_nature', 'nature_uai', 'typ_etab', 'Academie',\n",
       "       'Departement', 'NbEleve', 'NbEnseignant', 'SiEtabCentreRessource',\n",
       "       'SiProjetNumEcole', 'SiEntDisponible', 'SiProjEtabIntegreENT',\n",
       "       'Maint_PersCollect', 'Maint_PrestaExt', 'Maint_PersonnelEducNatHsEtab',\n",
       "       'Maint_PersonnelEtab', 'Maint_AutreNeSaitPas', 'Maint_Personne',\n",
       "       'NbRessourceEdit', 'TpRess_ManuelNum', 'TpRess_AnimScienLogiSimu',\n",
       "       'TpRess_Bdd', 'TpRess_LogiOutils', 'TpRess_OuvRef',\n",
       "       'TpRess_ResEntrainement', 'TpRess_Autres', 'TpRess_aucune',\n",
       "       'ServInt_NoteElev', 'ServInt_AbsElev', 'ServInt_EdtElevCls',\n",
       "       'ServInt_CahierTxt', 'ServInt_DocRessPeda', 'ServInt_AgdActuEtab',\n",
       "       'ServInt_PlatApp', 'ServInt_Autres', 'ServInt_aucun', 'NbTerminaux',\n",
       "       'NbTablette', 'NbTablettePC', 'NbMicroMoins5', 'NbMicroPortable',\n",
       "       'NbPortAffEl', 'NbPortAffEns', 'NbEleveEqASH', 'NbPosteEqASH', 'NbTBI',\n",
       "       'propClassesAvecTBI', 'NbVideoProj', 'NbClassMobile', 'NbLecteurMpx',\n",
       "       'NbImpr3D', 'AccWeb_RTC', 'AccWeb_CableFibreOptique', 'AccWeb_ADSL',\n",
       "       'AccWeb_AutresHautDebit', 'AccWeb_NeSaitPas', 'AccWeb_Aucun',\n",
       "       'DebitWeb', 'SiWifi', 'SalleInternet', 'PostesInfoElvHorsCours',\n",
       "       'SiPareFeuEtab', 'SiOuifiltrageWeb', 'ControlePosteriori',\n",
       "       'SiCharteUsageWeb', 'Diffch_AnnexeeRI',\n",
       "       'Diffch_DossierRentreeEnseignants', 'Diffch_CRConseilAdmin',\n",
       "       'Diffch_DiffusionParents', 'Diffch_Autres', 'AccesParentCharte',\n",
       "       'ElvAuthentif', 'SiVisioConferenc', 'SiEntUtilise',\n",
       "       'TypeMatHandi_Tablette', 'TypeMatHandi_OrdiPort', 'TypeMatHandi_LogApp',\n",
       "       'TypeMatHandi_Autre', 'Code_region', 'Libelle_region'],\n",
       "      dtype='object')"
      ]
     },
     "execution_count": 2,
     "metadata": {},
     "output_type": "execute_result"
    }
   ],
   "source": [
    "df = pd.read_csv('../data/lycee-college/fr-en-etic_2d.csv', sep=';')\n",
    "\n",
    "#on garde les données les plus récentes, donc 2019\n",
    "df = df.loc[df[\"Millesime\"] == 2019]\n",
    "\n",
    "#On fixe l'index\n",
    "df.set_index('Code_UAI', inplace=True)\n",
    "\n",
    "#On consulte les colonnes existantes\n",
    "df.columns"
   ]
  },
  {
   "cell_type": "markdown",
   "metadata": {},
   "source": [
    "On va maintenant récupérer les colonnes qui nous intéressent et supprimer celles qui ne nous intéressent pas. Nous allons ensuite supprimer les lignes qui contiennent des `NaN` pour pouvoir procéder à nos analyses.\n"
   ]
  },
  {
   "cell_type": "code",
   "execution_count": 3,
   "metadata": {},
   "outputs": [],
   "source": [
    "#Suppression des colonnes inutiles\n",
    "df_maintenance = df.drop(columns=[ 'Millesime', 'Code_nature', 'nature_uai', 'typ_etab',\n",
    "       'Academie', 'Departement', 'NbEleve', 'NbEnseignant',\n",
    "       'SiEtabCentreRessource', 'SiProjetNumEcole', 'SiEntDisponible',\n",
    "       'SiProjEtabIntegreENT', 'NbRessourceEdit',\n",
    "       'TpRess_ManuelNum', 'TpRess_AnimScienLogiSimu', 'TpRess_Bdd',\n",
    "       'TpRess_LogiOutils', 'TpRess_OuvRef', 'TpRess_ResEntrainement',\n",
    "       'TpRess_Autres', 'TpRess_aucune', 'ServInt_NoteElev', 'ServInt_AbsElev',\n",
    "       'ServInt_EdtElevCls', 'ServInt_CahierTxt', 'ServInt_DocRessPeda',\n",
    "       'ServInt_AgdActuEtab', 'ServInt_PlatApp', 'ServInt_Autres',\n",
    "       'ServInt_aucun', 'NbTerminaux', 'NbTablette', 'NbTablettePC',\n",
    "       'NbMicroMoins5', 'NbMicroPortable', 'NbPortAffEl', 'NbPortAffEns',\n",
    "       'NbEleveEqASH', 'NbPosteEqASH', 'NbTBI', 'propClassesAvecTBI',\n",
    "       'NbVideoProj', 'NbClassMobile', 'NbLecteurMpx', 'NbImpr3D',\n",
    "       'AccWeb_RTC', 'AccWeb_CableFibreOptique', 'AccWeb_ADSL',\n",
    "       'AccWeb_AutresHautDebit', 'AccWeb_NeSaitPas', 'AccWeb_Aucun',\n",
    "       'DebitWeb', 'SiWifi', 'SalleInternet', 'PostesInfoElvHorsCours',\n",
    "       'SiPareFeuEtab', 'SiOuifiltrageWeb', 'ControlePosteriori',\n",
    "       'SiCharteUsageWeb', 'Diffch_AnnexeeRI',\n",
    "       'Diffch_DossierRentreeEnseignants', 'Diffch_CRConseilAdmin',\n",
    "       'Diffch_DiffusionParents', 'Diffch_Autres', 'AccesParentCharte',\n",
    "       'ElvAuthentif', 'SiVisioConferenc', 'SiEntUtilise',\n",
    "       'TypeMatHandi_Tablette', 'TypeMatHandi_OrdiPort', 'TypeMatHandi_LogApp',\n",
    "       'TypeMatHandi_Autre', 'Code_region', 'Libelle_region'], inplace=False)\n",
    "\n",
    "\n",
    "df_maintenance.dropna(inplace=True, axis=0)"
   ]
  },
  {
   "cell_type": "code",
   "execution_count": 4,
   "metadata": {},
   "outputs": [
    {
     "data": {
      "text/plain": [
       "Index(['Maint_PersCollect', 'Maint_PrestaExt', 'Maint_PersonnelEducNatHsEtab',\n",
       "       'Maint_PersonnelEtab', 'Maint_AutreNeSaitPas', 'Maint_Personne'],\n",
       "      dtype='object')"
      ]
     },
     "execution_count": 4,
     "metadata": {},
     "output_type": "execute_result"
    }
   ],
   "source": [
    "#on vérifie que les colonnes ont bien été supprimées\n",
    "df_maintenance.columns"
   ]
  },
  {
   "cell_type": "markdown",
   "metadata": {},
   "source": [
    "On va ensuite procéder au renommage des colonnes pour pouvoir manipuler les données plus facilement et éviter d'avoir des noms de colonnes trop longs."
   ]
  },
  {
   "cell_type": "code",
   "execution_count": 5,
   "metadata": {},
   "outputs": [
    {
     "data": {
      "text/plain": [
       "Index(['perscollect', 'prestaext', 'personneleducnathsetab', 'personneletab',\n",
       "       'autrenesaitpas', 'personne'],\n",
       "      dtype='object')"
      ]
     },
     "execution_count": 5,
     "metadata": {},
     "output_type": "execute_result"
    }
   ],
   "source": [
    "for col in df_maintenance.columns:\n",
    "    df_maintenance.rename(columns={col: col.replace('Maint_', '').lower()}, inplace=True)\n",
    "\n",
    "df_maintenance.columns"
   ]
  },
  {
   "cell_type": "markdown",
   "metadata": {},
   "source": [
    "### *Corrélation entre les variables*\n",
    "\n",
    "Nous allons voir si il existe des corrélations entre nos différentes variables, pour cela nous devons transformer les valeurs de nos colonnes en valeurs binaires. On va remplacer \"oui\" par 1 et \"non\" par 0."
   ]
  },
  {
   "cell_type": "code",
   "execution_count": 6,
   "metadata": {},
   "outputs": [
    {
     "data": {
      "text/html": [
       "<div>\n",
       "<style scoped>\n",
       "    .dataframe tbody tr th:only-of-type {\n",
       "        vertical-align: middle;\n",
       "    }\n",
       "\n",
       "    .dataframe tbody tr th {\n",
       "        vertical-align: top;\n",
       "    }\n",
       "\n",
       "    .dataframe thead th {\n",
       "        text-align: right;\n",
       "    }\n",
       "</style>\n",
       "<table border=\"1\" class=\"dataframe\">\n",
       "  <thead>\n",
       "    <tr style=\"text-align: right;\">\n",
       "      <th></th>\n",
       "      <th>perscollect</th>\n",
       "      <th>prestaext</th>\n",
       "      <th>personneleducnathsetab</th>\n",
       "      <th>personneletab</th>\n",
       "      <th>autrenesaitpas</th>\n",
       "      <th>personne</th>\n",
       "    </tr>\n",
       "    <tr>\n",
       "      <th>Code_UAI</th>\n",
       "      <th></th>\n",
       "      <th></th>\n",
       "      <th></th>\n",
       "      <th></th>\n",
       "      <th></th>\n",
       "      <th></th>\n",
       "    </tr>\n",
       "  </thead>\n",
       "  <tbody>\n",
       "    <tr>\n",
       "      <th>0810016C</th>\n",
       "      <td>1.0</td>\n",
       "      <td>0.0</td>\n",
       "      <td>0.0</td>\n",
       "      <td>1.0</td>\n",
       "      <td>0.0</td>\n",
       "      <td>0.0</td>\n",
       "    </tr>\n",
       "    <tr>\n",
       "      <th>0810026N</th>\n",
       "      <td>1.0</td>\n",
       "      <td>0.0</td>\n",
       "      <td>0.0</td>\n",
       "      <td>1.0</td>\n",
       "      <td>0.0</td>\n",
       "      <td>0.0</td>\n",
       "    </tr>\n",
       "    <tr>\n",
       "      <th>0810041E</th>\n",
       "      <td>0.0</td>\n",
       "      <td>0.0</td>\n",
       "      <td>0.0</td>\n",
       "      <td>1.0</td>\n",
       "      <td>0.0</td>\n",
       "      <td>0.0</td>\n",
       "    </tr>\n",
       "    <tr>\n",
       "      <th>0810125W</th>\n",
       "      <td>1.0</td>\n",
       "      <td>0.0</td>\n",
       "      <td>0.0</td>\n",
       "      <td>1.0</td>\n",
       "      <td>0.0</td>\n",
       "      <td>0.0</td>\n",
       "    </tr>\n",
       "    <tr>\n",
       "      <th>0811144D</th>\n",
       "      <td>1.0</td>\n",
       "      <td>0.0</td>\n",
       "      <td>0.0</td>\n",
       "      <td>1.0</td>\n",
       "      <td>0.0</td>\n",
       "      <td>0.0</td>\n",
       "    </tr>\n",
       "  </tbody>\n",
       "</table>\n",
       "</div>"
      ],
      "text/plain": [
       "          perscollect  prestaext  personneleducnathsetab  personneletab  \\\n",
       "Code_UAI                                                                  \n",
       "0810016C          1.0        0.0                     0.0            1.0   \n",
       "0810026N          1.0        0.0                     0.0            1.0   \n",
       "0810041E          0.0        0.0                     0.0            1.0   \n",
       "0810125W          1.0        0.0                     0.0            1.0   \n",
       "0811144D          1.0        0.0                     0.0            1.0   \n",
       "\n",
       "          autrenesaitpas  personne  \n",
       "Code_UAI                            \n",
       "0810016C             0.0       0.0  \n",
       "0810026N             0.0       0.0  \n",
       "0810041E             0.0       0.0  \n",
       "0810125W             0.0       0.0  \n",
       "0811144D             0.0       0.0  "
      ]
     },
     "execution_count": 6,
     "metadata": {},
     "output_type": "execute_result"
    }
   ],
   "source": [
    "for col in df_maintenance.columns:\n",
    "    df_maintenance.replace({\"oui\": \"1\", \"non\": \"0\"}, inplace=True)\n",
    "    df_maintenance[col] = df_maintenance[col].astype('float64')\n",
    "\n",
    "df_maintenance.head()"
   ]
  },
  {
   "cell_type": "markdown",
   "metadata": {},
   "source": [
    "On va maintenant créer la matrice de corrélation pour chercher les liens."
   ]
  },
  {
   "cell_type": "code",
   "execution_count": 7,
   "metadata": {},
   "outputs": [
    {
     "data": {
      "image/png": "[encoded data removed]",
      "text/plain": [
       "<IPython.core.display.Image object>"
      ]
     },
     "execution_count": 7,
     "metadata": {},
     "output_type": "execute_result"
    }
   ],
   "source": [
    "column_names = df_maintenance.columns\n",
    "\n",
    "heat = go.Heatmap(\n",
    "    z=df_maintenance.corr(),\n",
    "    x=column_names,\n",
    "    y=column_names,\n",
    "    xgap=1,\n",
    "    ygap=1,\n",
    "    colorbar_thickness=20,\n",
    "    colorbar_ticklen=3,\n",
    "    hovertext=df_maintenance.corr(),\n",
    "    hoverinfo='text'\n",
    ")\n",
    "\n",
    "layout = go.Layout(\n",
    "    title='Matrice de corrélation',\n",
    "    width=600,\n",
    "    height=600,\n",
    "    xaxis_showgrid=False,\n",
    "    yaxis_showgrid=False,\n",
    "    yaxis_autorange='reversed'\n",
    ")\n",
    "\n",
    "fig = go.Figure(data=[heat], layout=layout)\n",
    "Image(fig.to_image(format=\"png\", engine=\"kaleido\", width=600, height=600))\n",
    "\n",
    "#fig.show()"
   ]
  },
  {
   "cell_type": "markdown",
   "metadata": {},
   "source": [
    "On voit qu'il n'existe pas réellement de corrélation entre les différentes variables. On s'y attend car en général il y a une seule personne qui s'occupe de l'entretien.\n",
    "\n",
    "### *Classification non supervisé*\n",
    "\n",
    "On va pouvoir maintenant faire du clustering à l'aide de l'algorithme de `KMeans`."
   ]
  },
  {
   "cell_type": "code",
   "execution_count": 8,
   "metadata": {},
   "outputs": [
    {
     "data": {
      "text/html": [
       "<div>\n",
       "<style scoped>\n",
       "    .dataframe tbody tr th:only-of-type {\n",
       "        vertical-align: middle;\n",
       "    }\n",
       "\n",
       "    .dataframe tbody tr th {\n",
       "        vertical-align: top;\n",
       "    }\n",
       "\n",
       "    .dataframe thead th {\n",
       "        text-align: right;\n",
       "    }\n",
       "</style>\n",
       "<table border=\"1\" class=\"dataframe\">\n",
       "  <thead>\n",
       "    <tr style=\"text-align: right;\">\n",
       "      <th></th>\n",
       "      <th>perscollect</th>\n",
       "      <th>prestaext</th>\n",
       "      <th>personneleducnathsetab</th>\n",
       "      <th>personneletab</th>\n",
       "      <th>autrenesaitpas</th>\n",
       "      <th>personne</th>\n",
       "    </tr>\n",
       "  </thead>\n",
       "  <tbody>\n",
       "    <tr>\n",
       "      <th>0</th>\n",
       "      <td>8.219178e-01</td>\n",
       "      <td>0.109589</td>\n",
       "      <td>1.232877e-01</td>\n",
       "      <td>-3.330669e-16</td>\n",
       "      <td>-6.938894e-18</td>\n",
       "      <td>6.849315e-02</td>\n",
       "    </tr>\n",
       "    <tr>\n",
       "      <th>1</th>\n",
       "      <td>7.619048e-01</td>\n",
       "      <td>0.095238</td>\n",
       "      <td>1.000000e+00</td>\n",
       "      <td>1.000000e+00</td>\n",
       "      <td>-3.469447e-18</td>\n",
       "      <td>-3.469447e-18</td>\n",
       "    </tr>\n",
       "    <tr>\n",
       "      <th>2</th>\n",
       "      <td>1.000000e+00</td>\n",
       "      <td>0.067039</td>\n",
       "      <td>-1.804112e-16</td>\n",
       "      <td>1.000000e+00</td>\n",
       "      <td>5.586592e-03</td>\n",
       "      <td>-1.214306e-17</td>\n",
       "    </tr>\n",
       "    <tr>\n",
       "      <th>3</th>\n",
       "      <td>-2.220446e-16</td>\n",
       "      <td>0.120301</td>\n",
       "      <td>0.000000e+00</td>\n",
       "      <td>1.000000e+00</td>\n",
       "      <td>3.007519e-02</td>\n",
       "      <td>-8.673617e-18</td>\n",
       "    </tr>\n",
       "  </tbody>\n",
       "</table>\n",
       "</div>"
      ],
      "text/plain": [
       "    perscollect  prestaext  personneleducnathsetab  personneletab  \\\n",
       "0  8.219178e-01   0.109589            1.232877e-01  -3.330669e-16   \n",
       "1  7.619048e-01   0.095238            1.000000e+00   1.000000e+00   \n",
       "2  1.000000e+00   0.067039           -1.804112e-16   1.000000e+00   \n",
       "3 -2.220446e-16   0.120301            0.000000e+00   1.000000e+00   \n",
       "\n",
       "   autrenesaitpas      personne  \n",
       "0   -6.938894e-18  6.849315e-02  \n",
       "1   -3.469447e-18 -3.469447e-18  \n",
       "2    5.586592e-03 -1.214306e-17  \n",
       "3    3.007519e-02 -8.673617e-18  "
      ]
     },
     "execution_count": 8,
     "metadata": {},
     "output_type": "execute_result"
    }
   ],
   "source": [
    "km_maintenance = KMeans(\n",
    "    n_clusters=4, \n",
    "    random_state=0,\n",
    "    init='k-means++',\n",
    "    n_init=20,\n",
    "    max_iter=300\n",
    ")\n",
    "\n",
    "y_km_maintenance = km_maintenance.fit_predict(df_maintenance)\n",
    "\n",
    "resultat = pd.DataFrame(km_maintenance.cluster_centers_, columns=km_maintenance.feature_names_in_)\n",
    "\n",
    "resultat"
   ]
  },
  {
   "cell_type": "markdown",
   "metadata": {},
   "source": [
    "On va convertir cela en \"oui\" et \"non\" pour que nous puissions juger simplement les moyennes des centres et choisir le nombre de clusters souhaités."
   ]
  },
  {
   "cell_type": "code",
   "execution_count": 9,
   "metadata": {},
   "outputs": [
    {
     "data": {
      "text/html": [
       "<div>\n",
       "<style scoped>\n",
       "    .dataframe tbody tr th:only-of-type {\n",
       "        vertical-align: middle;\n",
       "    }\n",
       "\n",
       "    .dataframe tbody tr th {\n",
       "        vertical-align: top;\n",
       "    }\n",
       "\n",
       "    .dataframe thead th {\n",
       "        text-align: right;\n",
       "    }\n",
       "</style>\n",
       "<table border=\"1\" class=\"dataframe\">\n",
       "  <thead>\n",
       "    <tr style=\"text-align: right;\">\n",
       "      <th></th>\n",
       "      <th>perscollect</th>\n",
       "      <th>prestaext</th>\n",
       "      <th>personneleducnathsetab</th>\n",
       "      <th>personneletab</th>\n",
       "      <th>autrenesaitpas</th>\n",
       "      <th>personne</th>\n",
       "    </tr>\n",
       "  </thead>\n",
       "  <tbody>\n",
       "    <tr>\n",
       "      <th>0</th>\n",
       "      <td>oui</td>\n",
       "      <td>non</td>\n",
       "      <td>non</td>\n",
       "      <td>non</td>\n",
       "      <td>non</td>\n",
       "      <td>non</td>\n",
       "    </tr>\n",
       "    <tr>\n",
       "      <th>1</th>\n",
       "      <td>oui</td>\n",
       "      <td>non</td>\n",
       "      <td>oui</td>\n",
       "      <td>oui</td>\n",
       "      <td>non</td>\n",
       "      <td>non</td>\n",
       "    </tr>\n",
       "    <tr>\n",
       "      <th>2</th>\n",
       "      <td>oui</td>\n",
       "      <td>non</td>\n",
       "      <td>non</td>\n",
       "      <td>oui</td>\n",
       "      <td>non</td>\n",
       "      <td>non</td>\n",
       "    </tr>\n",
       "    <tr>\n",
       "      <th>3</th>\n",
       "      <td>non</td>\n",
       "      <td>non</td>\n",
       "      <td>non</td>\n",
       "      <td>oui</td>\n",
       "      <td>non</td>\n",
       "      <td>non</td>\n",
       "    </tr>\n",
       "  </tbody>\n",
       "</table>\n",
       "</div>"
      ],
      "text/plain": [
       "  perscollect prestaext personneleducnathsetab personneletab autrenesaitpas  \\\n",
       "0         oui       non                    non           non            non   \n",
       "1         oui       non                    oui           oui            non   \n",
       "2         oui       non                    non           oui            non   \n",
       "3         non       non                    non           oui            non   \n",
       "\n",
       "  personne  \n",
       "0      non  \n",
       "1      non  \n",
       "2      non  \n",
       "3      non  "
      ]
     },
     "execution_count": 9,
     "metadata": {},
     "output_type": "execute_result"
    }
   ],
   "source": [
    "def change_value(row):\n",
    "    if(row > 0.5):\n",
    "        return 1        \n",
    "    else:\n",
    "        return 0\n",
    "\n",
    "\n",
    "for col in resultat.columns:\n",
    "    resultat[col] = resultat[col].apply(change_value)\n",
    "    resultat[col] = resultat[col].astype(str)\n",
    "    resultat.replace({\"1\": \"oui\", \"0\" : \"non\"}, inplace=True)\n",
    "\n",
    "resultat"
   ]
  },
  {
   "cell_type": "markdown",
   "metadata": {},
   "source": [
    "Nous pouvons donc voir qu'il existera 4 modalités, une chaque pour classe. Nous allons donc créer une colonne avec les 4 modalités suivantes pour une colonne maintenance :\n",
    "- \"Trés bien\" : classe 0 (c'est la classe avec le plus de \"oui\" en moyenne, il y a donc une trés bonne maintenance de l'équipement numérique)\n",
    "- \"Bien\" : classe 1  (cette classe a pour moyenne en maintenance 2 \"oui\", il y a donc deux moyens de maintenance diversifiés qui peut garantir une bonne qualité de maintenance)\n",
    "- \"Assez bien\" : classe 2  (pour cette classe, on a en moyenne seulement du personnel de l'établissement qui effectue des maintenances. Comme ce personnel est attaché directement à l'établissement, il peut agir plus rapidement et efficacement sur le terrain. L'établissement peut rapidement le solliciter pour une intervention rapide)\n",
    "- \"Moyen\" : classe 3  (cette classe n'a qu'un seul \"oui\" en moyenne, la maintenance est faite par du personnel de la collectivité. Ce personnel peut réagir moins rapidement mais il peut être géré simplement par la collectivité compétente)"
   ]
  },
  {
   "cell_type": "code",
   "execution_count": 10,
   "metadata": {},
   "outputs": [
    {
     "data": {
      "text/html": [
       "<div>\n",
       "<style scoped>\n",
       "    .dataframe tbody tr th:only-of-type {\n",
       "        vertical-align: middle;\n",
       "    }\n",
       "\n",
       "    .dataframe tbody tr th {\n",
       "        vertical-align: top;\n",
       "    }\n",
       "\n",
       "    .dataframe thead th {\n",
       "        text-align: right;\n",
       "    }\n",
       "</style>\n",
       "<table border=\"1\" class=\"dataframe\">\n",
       "  <thead>\n",
       "    <tr style=\"text-align: right;\">\n",
       "      <th></th>\n",
       "      <th>perscollect</th>\n",
       "      <th>prestaext</th>\n",
       "      <th>personneleducnathsetab</th>\n",
       "      <th>personneletab</th>\n",
       "      <th>autrenesaitpas</th>\n",
       "      <th>personne</th>\n",
       "      <th>cluster</th>\n",
       "    </tr>\n",
       "    <tr>\n",
       "      <th>Code_UAI</th>\n",
       "      <th></th>\n",
       "      <th></th>\n",
       "      <th></th>\n",
       "      <th></th>\n",
       "      <th></th>\n",
       "      <th></th>\n",
       "      <th></th>\n",
       "    </tr>\n",
       "  </thead>\n",
       "  <tbody>\n",
       "    <tr>\n",
       "      <th>0810016C</th>\n",
       "      <td>1.0</td>\n",
       "      <td>0.0</td>\n",
       "      <td>0.0</td>\n",
       "      <td>1.0</td>\n",
       "      <td>0.0</td>\n",
       "      <td>0.0</td>\n",
       "      <td>Assez bien</td>\n",
       "    </tr>\n",
       "    <tr>\n",
       "      <th>0810026N</th>\n",
       "      <td>1.0</td>\n",
       "      <td>0.0</td>\n",
       "      <td>0.0</td>\n",
       "      <td>1.0</td>\n",
       "      <td>0.0</td>\n",
       "      <td>0.0</td>\n",
       "      <td>Assez bien</td>\n",
       "    </tr>\n",
       "    <tr>\n",
       "      <th>0810041E</th>\n",
       "      <td>0.0</td>\n",
       "      <td>0.0</td>\n",
       "      <td>0.0</td>\n",
       "      <td>1.0</td>\n",
       "      <td>0.0</td>\n",
       "      <td>0.0</td>\n",
       "      <td>Moyen</td>\n",
       "    </tr>\n",
       "    <tr>\n",
       "      <th>0810125W</th>\n",
       "      <td>1.0</td>\n",
       "      <td>0.0</td>\n",
       "      <td>0.0</td>\n",
       "      <td>1.0</td>\n",
       "      <td>0.0</td>\n",
       "      <td>0.0</td>\n",
       "      <td>Assez bien</td>\n",
       "    </tr>\n",
       "    <tr>\n",
       "      <th>0811144D</th>\n",
       "      <td>1.0</td>\n",
       "      <td>0.0</td>\n",
       "      <td>0.0</td>\n",
       "      <td>1.0</td>\n",
       "      <td>0.0</td>\n",
       "      <td>0.0</td>\n",
       "      <td>Assez bien</td>\n",
       "    </tr>\n",
       "  </tbody>\n",
       "</table>\n",
       "</div>"
      ],
      "text/plain": [
       "          perscollect  prestaext  personneleducnathsetab  personneletab  \\\n",
       "Code_UAI                                                                  \n",
       "0810016C          1.0        0.0                     0.0            1.0   \n",
       "0810026N          1.0        0.0                     0.0            1.0   \n",
       "0810041E          0.0        0.0                     0.0            1.0   \n",
       "0810125W          1.0        0.0                     0.0            1.0   \n",
       "0811144D          1.0        0.0                     0.0            1.0   \n",
       "\n",
       "          autrenesaitpas  personne     cluster  \n",
       "Code_UAI                                        \n",
       "0810016C             0.0       0.0  Assez bien  \n",
       "0810026N             0.0       0.0  Assez bien  \n",
       "0810041E             0.0       0.0       Moyen  \n",
       "0810125W             0.0       0.0  Assez bien  \n",
       "0811144D             0.0       0.0  Assez bien  "
      ]
     },
     "execution_count": 10,
     "metadata": {},
     "output_type": "execute_result"
    }
   ],
   "source": [
    "df_maintenance['cluster'] = y_km_maintenance\n",
    "df_maintenance['cluster'] = df_maintenance['cluster'].astype(str)\n",
    "\n",
    "df_maintenance.replace({\"0\": \"Trés bien\", \"1\" : \"Bien\", \"2\" : \"Assez bien\", \"3\" : \"Moyen\"}, inplace=True)\n",
    "\n",
    "df_maintenance.head()"
   ]
  },
  {
   "cell_type": "markdown",
   "metadata": {},
   "source": [
    "### *ACP* \n",
    "\n",
    "Nous pouvons maintenant passer à l'ACP pour voir les groupes d'individus (établissements) existants et voir si l'affectation est bien faite ou pas."
   ]
  },
  {
   "cell_type": "code",
   "execution_count": 11,
   "metadata": {},
   "outputs": [
    {
     "data": {
      "image/png": "[encoded data removed]",
      "text/plain": [
       "<IPython.core.display.Image object>"
      ]
     },
     "execution_count": 11,
     "metadata": {},
     "output_type": "execute_result"
    }
   ],
   "source": [
    "pca_maint = PCA(n_components=2)\n",
    "\n",
    "components_maint = pca_maint.fit_transform(df_maintenance.drop(columns=['cluster']))\n",
    "\n",
    "labels = {\n",
    "    str(i): f\"PC {i+1} ({var:.1f}%)\"\n",
    "    for i, var in enumerate(pca_maint.explained_variance_ratio_ * 100)\n",
    "}\n",
    "\n",
    "fig = px.scatter(components_maint, x=0, y=1, color=df_maintenance['cluster'], labels=labels)\n",
    "Image(fig.to_image(format=\"png\", engine=\"kaleido\", width=1000, height=600))\n",
    "\n",
    "#fig.show()"
   ]
  },
  {
   "cell_type": "markdown",
   "metadata": {},
   "source": [
    "On remarque que la variance totale expliquée ici est de 65.5 %. On voit qu'il existe 4 groupes d'individus. Le seul moyen de bien partager les individus est de passer à 2 clusters. Seul soucis c'est que cela ne nous aide pas pour mettre en place différentes appréciations pour la maintenance en général car les classes ont quasiment les mêmes centres. On va donc rester sur 4 clusters ici.\n",
    "\n",
    "\n",
    "### *Enregistrement du résultat*\n",
    "\n",
    "On peut maintenant donc passer à l'enregistrement du résultat dans un fichier \".csv\"."
   ]
  },
  {
   "cell_type": "code",
   "execution_count": 12,
   "metadata": {},
   "outputs": [],
   "source": [
    "df_maintenance_final = pd.DataFrame(df_maintenance.cluster)\n",
    "df_maintenance_final.rename(columns={'cluster': 'maintenance'}, inplace=True)\n",
    "\n",
    "df_maintenance_final.to_csv('../data/analyses/maintenance.csv', sep=';', index=True)"
   ]
  }
 ],
 "metadata": {
  "kernelspec": {
   "display_name": "Python 3 (ipykernel)",
   "language": "python",
   "name": "python3"
  },
  "language_info": {
   "codemirror_mode": {
    "name": "ipython",
    "version": 3
   },
   "file_extension": ".py",
   "mimetype": "text/x-python",
   "name": "python",
   "nbconvert_exporter": "python",
   "pygments_lexer": "ipython3",
   "version": "3.9.12"
  },
  "vscode": {
   "interpreter": {
    "hash": "2349f8cba88a5b2d1d390f83a8a5748abc4e6656a2f4a0a7bc22dd7876009b29"
   }
  }
 },
 "nbformat": 4,
 "nbformat_minor": 2
}
